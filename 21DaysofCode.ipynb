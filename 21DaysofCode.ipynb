{
 "cells": [
  {
   "cell_type": "markdown",
   "metadata": {},
   "source": [
    "Hi there,\n",
    "\n",
    "Welcome to my 21 days of code challenge which was undertaken during the COVID-19 (coronavirus) period in order to distract myself from the chaos in the world. During the 21 days, I grabed a random problem from leetcode.com, and solved this using Python. This notebook includes the problems, solutions as well as links to the website from which the problems are copied. The cell for each day will contain all needed libraries. Feel free to attempt the problems yourself before checking out my solution.\n",
    "\n",
    "All credit goes to leetcode.com for providing these problem sets.\n",
    "\n",
    "Alright, then. Let's dive in. Have fun"
   ]
  },
  {
   "cell_type": "markdown",
   "metadata": {},
   "source": [
    "## Day 0"
   ]
  },
  {
   "cell_type": "markdown",
   "metadata": {},
   "source": [
    "`2. Add Two Numbers`\n",
    "\n",
    "https://leetcode.com/problems/add-two-numbers/\n",
    "\n",
    "You are given two non-empty linked lists representing \n",
    "two non-negative integers.\n",
    "The digits are stored in reverse order and each of \n",
    "their nodes contain a single digit. \n",
    "Add the two numbers and return it as a linked list.\n",
    "\n",
    "You may assume the two numbers do not contain any \n",
    "leading zero, except the number 0 itself.\n",
    "\n",
    "Example:\n",
    "\n",
    "Input: (2 -> 4 -> 3) + (5 -> 6 -> 4)\n",
    "Output: 7 -> 0 -> 8\n",
    "Explanation: 342 + 465 = 807"
   ]
  },
  {
   "cell_type": "code",
   "execution_count": 2,
   "metadata": {},
   "outputs": [
    {
     "data": {
      "text/plain": [
       "[7, 0, 4, 1]"
      ]
     },
     "execution_count": 2,
     "metadata": {},
     "output_type": "execute_result"
    }
   ],
   "source": [
    "class Solution:\n",
    "    def addTwoNumbers(self, l1, l2):\n",
    "        l1 = l1[::-1] \n",
    "        l2 = l2[::-1] \n",
    "\n",
    "        l1 = int(\"\".join(str(x) for x in l1))\n",
    "        l2 = int(\"\".join(str(x) for x in l2))\n",
    "\n",
    "        finL = l1 + l2\n",
    "        l = [int(x) for x in str(finL)]\n",
    "        l = l[::-1] \n",
    "        return l\n",
    "    \n",
    "s = Solution()\n",
    "s.addTwoNumbers([2,4,5],[5,6,8])"
   ]
  },
  {
   "cell_type": "markdown",
   "metadata": {},
   "source": [
    "## Day 1"
   ]
  },
  {
   "cell_type": "markdown",
   "metadata": {},
   "source": [
    "`238. Product of Array Except Self`\n",
    "\n",
    "https://leetcode.com/problems/product-of-array-except-self/\n",
    "\n",
    "Given an array nums of n integers where n > 1,  return an array \n",
    "output such that output[i] is equal to the product of all the \n",
    "elements of nums except nums[i].\n",
    "\n",
    "Example:\n",
    "\n",
    "Input:  [1,2,3,4]\n",
    "    \n",
    "Output: [24,12,8,6]\n",
    "    \n",
    "Constraint: It's guaranteed that the product of the elements \n",
    "of any prefix or suffix of the array (including the whole array) \n",
    "fits in a 32 bit integer.\n",
    "\n",
    "Note: Please solve it without division and in O(n).\n",
    "\n",
    "Follow up:\n",
    "    \n",
    "Could you solve it with constant space complexity? (The output \n",
    "array does not count as extra space for the purpose of \n",
    "space complexity analysis.)"
   ]
  },
  {
   "cell_type": "code",
   "execution_count": 3,
   "metadata": {},
   "outputs": [
    {
     "data": {
      "text/plain": [
       "[30, 15, 10, 6]"
      ]
     },
     "execution_count": 3,
     "metadata": {},
     "output_type": "execute_result"
    }
   ],
   "source": [
    "class Solution1(object):\n",
    "    def productExceptSelf(self, nums):\n",
    "        \"\"\"\n",
    "        :type nums: List[int]\n",
    "        :rtype: List[int]\n",
    "        \"\"\"\n",
    "        oList = []\n",
    "\n",
    "        for v in nums:\n",
    "            numsC = nums.copy()\n",
    "            numsC.remove(v)\n",
    "            r = 1\n",
    "            for x in numsC:\n",
    "                r *= x\n",
    "            oList.append(r)\n",
    "            \n",
    "        return oList\n",
    "\n",
    "s1 = Solution1()\n",
    "s1.productExceptSelf([1,2,3,5])"
   ]
  },
  {
   "cell_type": "markdown",
   "metadata": {},
   "source": [
    "## Day 2\n",
    "- different method for Day 1's problem"
   ]
  },
  {
   "cell_type": "markdown",
   "metadata": {},
   "source": [
    "`238. Product of Array Except Self`\n",
    "\n",
    "https://leetcode.com/problems/product-of-array-except-self/\n",
    "\n",
    "Given an array nums of n integers where n > 1,  return an array \n",
    "output such that output[i] is equal to the product of all the \n",
    "elements of nums except nums[i].\n",
    "\n",
    "Example:\n",
    "\n",
    "Input:  [1,2,3,4]\n",
    "\n",
    "Output: [24,12,8,6]\n",
    "\n",
    "Constraint: It's guaranteed that the product of the elements \n",
    "of any prefix or suffix of the array (including the whole array) \n",
    "fits in a 32 bit integer.\n",
    "\n",
    "Note: Please solve it without division and in O(n).\n",
    "\n",
    "Follow up:\n",
    "\n",
    "Could you solve it with constant space complexity? (The output \n",
    "array does not count as extra space for the purpose of \n",
    "space complexity analysis.)\n",
    "\n"
   ]
  },
  {
   "cell_type": "code",
   "execution_count": 4,
   "metadata": {},
   "outputs": [
    {
     "data": {
      "text/plain": [
       "[30, 15, 10, 6]"
      ]
     },
     "execution_count": 4,
     "metadata": {},
     "output_type": "execute_result"
    }
   ],
   "source": [
    "from operator import mul\n",
    "from functools import reduce\n",
    "\n",
    "class Solution2(object):\n",
    "    def productExceptSelf(self, nums):\n",
    "        \"\"\"\n",
    "        :type nums: List[int]\n",
    "        :rtype: List[int]\n",
    "        \"\"\"\n",
    "        oList = []\n",
    "        for v in nums:\n",
    "            numsC = nums.copy()\n",
    "            numsC.remove(v)\n",
    "            oList.append(numsC)\n",
    "            \n",
    "        oList = [reduce(mul, x) for x in oList]\n",
    "\n",
    "        return oList\n",
    "\n",
    "s2 = Solution2()\n",
    "s2.productExceptSelf([1,2,3,5])"
   ]
  },
  {
   "cell_type": "markdown",
   "metadata": {},
   "source": [
    "## Day 3"
   ]
  },
  {
   "cell_type": "markdown",
   "metadata": {},
   "source": [
    "`192. Word Frequency`\n",
    "\n",
    "https://leetcode.com/problems/word-frequency/\n",
    "\n",
    "Write a bash script to calculate the frequency of \n",
    "each word in a text file words.txt.\n",
    "\n",
    "For simplicity sake, you may assume:\n",
    "\n",
    "words.txt contains only lowercase characters and \n",
    "space ' ' characters.\n",
    "Each word must consist of lowercase characters only.\n",
    "Words are separated by one or more whitespace characters.\n",
    "Example:\n",
    "\n",
    "Assume that words.txt has the following content:\n",
    "\n",
    "`the day is sunny the the\n",
    "the sunny is is`\n",
    "\n",
    "Your script should output the following, sorted by \n",
    "descending frequency:\n",
    "\n",
    "the 4\n",
    "\n",
    "is 3\n",
    "\n",
    "sunny 2\n",
    "\n",
    "day 1\n",
    "\n",
    "Note:\n",
    "\n",
    "Don't worry about handling ties, it is guaranteed that \n",
    "each word's frequency count is unique.\n",
    "Could you write it in one-line using Unix pipes?"
   ]
  },
  {
   "cell_type": "code",
   "execution_count": 5,
   "metadata": {},
   "outputs": [
    {
     "data": {
      "text/plain": [
       "{'the': 4, 'is': 3, 'sunny': 2, 'day': 1}"
      ]
     },
     "execution_count": 5,
     "metadata": {},
     "output_type": "execute_result"
    }
   ],
   "source": [
    "import pandas as pd\n",
    "\n",
    "class Solution(object):\n",
    "    def word_frequency(self, file=\"words.txt\"):\n",
    "        with open(file, \"r\") as w:\n",
    "            txt = w.readlines()\n",
    "            txt = [x.strip() for x in txt]\n",
    "            txt = \" \".join(x for x in txt)\n",
    "            txt = txt.split()\n",
    "\n",
    "            dftxt = pd.DataFrame(txt).rename(columns={0:\"word\"})\n",
    "            dftxt = dftxt.groupby([\"word\"]).size().reset_index(name='counts')\n",
    "            dftxt = dftxt.sort_values(\"counts\", ascending=False)\n",
    "        return dict(zip(dftxt[\"word\"].values, dftxt[\"counts\"].values))\n",
    "    \n",
    "s = Solution()\n",
    "s.word_frequency()"
   ]
  },
  {
   "cell_type": "markdown",
   "metadata": {},
   "source": [
    "## Day 4"
   ]
  },
  {
   "cell_type": "markdown",
   "metadata": {},
   "source": [
    " `1268. Search Suggestions System`\n",
    "\n",
    "https://leetcode.com/problems/search-suggestions-system/\n",
    "\n",
    "Given an array of strings products and a string searchWord. \n",
    "We want to design a system that suggests at most three product \n",
    "names from products after each character of searchWord is typed. \n",
    "Suggested products should have common prefix with the searchWord. \n",
    "If there are more than three products with a common prefix return \n",
    "the three lexicographically minimums products.\n",
    "\n",
    "Return list of lists of the suggested products after each character \n",
    "of searchWord is typed. \n",
    "\n",
    "Example 1:\n",
    "\n",
    "Input: products = [\"mobile\",\"mouse\",\"moneypot\",\"monitor\",\"mousepad\"], \n",
    "searchWord = \"mouse\"\n",
    "\n",
    "Output: [\n",
    "[\"mobile\",\"moneypot\",\"monitor\"],\n",
    "[\"mobile\",\"moneypot\",\"monitor\"],\n",
    "[\"mouse\",\"mousepad\"],\n",
    "[\"mouse\",\"mousepad\"],\n",
    "[\"mouse\",\"mousepad\"]\n",
    "]\n",
    "    \n",
    "Explanation: products sorted lexicographically = \n",
    "    [\"mobile\",\"moneypot\",\"monitor\",\"mouse\",\"mousepad\"]\n",
    "    \n",
    "After typing m and mo all products match and \n",
    "we show user [\"mobile\",\"moneypot\",\"monitor\"]\n",
    "After typing mou, mous and mouse the system suggests [\"mouse\",\"mousepad\"]\n",
    "\n",
    "Constraints:\n",
    "\n",
    "1 <= products.length <= 1000\n",
    "There are no repeated elements in products.\n",
    "1 <= Σ products[i].length <= 2 * 10^4\n",
    "All characters of products[i] are lower-case English letters.\n",
    "1 <= searchWord.length <= 1000\n",
    "All characters of searchWord are lower-case English letters."
   ]
  },
  {
   "cell_type": "code",
   "execution_count": 6,
   "metadata": {},
   "outputs": [
    {
     "data": {
      "text/plain": [
       "['stay healthy', 'stay safe', 'stay at home!']"
      ]
     },
     "execution_count": 6,
     "metadata": {},
     "output_type": "execute_result"
    }
   ],
   "source": [
    "from typing import List\n",
    "class Solution:\n",
    "    def suggestedProducts(self, products: List[str], searchWord: str) -> List[List[str]]:\n",
    "        oList = []\n",
    "        for i in range(len(searchWord)):\n",
    "            cntr = i +1\n",
    "            for p in products:\n",
    "                if p[0:cntr] == searchWord:\n",
    "                    oList.append(p)       \n",
    "        return oList[:3]\n",
    "\n",
    "        \n",
    "inputL = [\"mobile\",\"mouse\",\"moneypot\",\"monitor\", \"stay healthy\", \"stay safe\",\"stay at home!\"]\n",
    "s = Solution()\n",
    "s.suggestedProducts(inputL, \"st\")"
   ]
  },
  {
   "cell_type": "markdown",
   "metadata": {},
   "source": [
    "## Day 5"
   ]
  },
  {
   "cell_type": "markdown",
   "metadata": {},
   "source": [
    "`224. Basic Calculator`\n",
    "\n",
    "https://leetcode.com/problems/basic-calculator/\n",
    "\n",
    "Implement a basic calculator to evaluate a simple expression string.\n",
    "\n",
    "The expression string may contain open ( and closing parentheses ), \n",
    "the plus + or minus sign -, non-negative integers and empty spaces.\n",
    "\n",
    "Example 1:\n",
    "\n",
    "Input: \"1 + 1\"\n",
    "Output: 2\n",
    "Example 2:\n",
    "\n",
    "Input: \" 2-1 + 2 \"\n",
    "Output: 3\n",
    "Example 3:\n",
    "\n",
    "Input: \"(1+(4+5+2)-3)+(6+8)\"\n",
    "Output: 23\n",
    "Note:\n",
    "You may assume that the given expression is always valid.\n",
    "Do not use the eval built-in library function.\n"
   ]
  },
  {
   "cell_type": "code",
   "execution_count": 7,
   "metadata": {},
   "outputs": [
    {
     "data": {
      "text/plain": [
       "-10"
      ]
     },
     "execution_count": 7,
     "metadata": {},
     "output_type": "execute_result"
    }
   ],
   "source": [
    "import re\n",
    "class Solution:\n",
    "    def calculate(self, inp: str) -> int:\n",
    "        def num(inp):\n",
    "            indx = {}\n",
    "            valDict = {}\n",
    "            temp = 0\n",
    "\n",
    "            for i, val in enumerate(inp):\n",
    "                if val == \"+\":\n",
    "                    indx[i] = val\n",
    "                elif val == \"-\":\n",
    "                    indx[i] = val\n",
    "                else:\n",
    "                    valDict[i] = val\n",
    "\n",
    "            for k, v in valDict.items():\n",
    "                if k == 0:\n",
    "                    temp = int(v)\n",
    "                else:\n",
    "                    sign = indx[k-1]\n",
    "                    if sign == \"+\":\n",
    "                        temp += int(v)\n",
    "                    elif sign == \"-\":\n",
    "                        temp -= int(v)\n",
    "            return temp\n",
    "        \n",
    "        comp = 0\n",
    "\n",
    "        if \"(\" in inp:\n",
    "            i1 = re.split(r\"\\(\", inp)\n",
    "            i1 = [x for x in i1 if x != \"\"]\n",
    "            i1 = \"|\".join(x for x in i1)\n",
    "            i1 = re.split(r\"\\)\", i1)\n",
    "            i1 = [x for x in i1 if x != \"\"]\n",
    "\n",
    "            for x in i1:\n",
    "                \n",
    "                if \"|\" in x:\n",
    "                    f1 = x.split(\"|\")\n",
    "                    \n",
    "                    if x[0] == \"+\":\n",
    "                        for f in f1:\n",
    "                            n = num([i for i in f if i != \" \"])\n",
    "                            comp = comp + int(n)\n",
    "                                \n",
    "                    elif x[0] == \"-\":\n",
    "                        for f in f1:\n",
    "                            n = num([i for i in f if i != \" \"])\n",
    "                            comp = comp - int(n)\n",
    "                                \n",
    "                    else: \n",
    "                        negL = {}\n",
    " \n",
    "                        for k, v in enumerate(f1):\n",
    "                            if len(v) == 2 and v[1] == \"-\":\n",
    "                                negL[k+1] = \"neg\"\n",
    "                            elif len(v) == 2 and v[1] == \"+\":\n",
    "                                negL[k+1] = \"pos\"\n",
    "\n",
    "                        for k, v in enumerate(f1):\n",
    "\n",
    "                            n = num([i for i in v if i != \" \"])\n",
    "                            if k in negL.keys():\n",
    "                                if negL[k] == \"neg\":\n",
    "                                    n = n * -1\n",
    "                                elif negL[k] == \"pos\":\n",
    "                                    n = n * 1\n",
    "\n",
    "                            comp = comp + int(n)\n",
    "                else:\n",
    "                    comp = comp + int(x)\n",
    "\n",
    "        else:\n",
    "            comp = comp + num([i for i in inp if i != \" \"])\n",
    "            \n",
    "        return comp\n",
    "    \n",
    "s = Solution()\n",
    "s.calculate(\"(7-(8+9))\")"
   ]
  },
  {
   "cell_type": "markdown",
   "metadata": {},
   "source": [
    "## Day 6"
   ]
  },
  {
   "cell_type": "markdown",
   "metadata": {},
   "source": [
    "`202. Happy Number`\n",
    "\n",
    "#https://leetcode.com/problems/happy-number/\n",
    "\n",
    "Write an algorithm to determine if a number is \"happy\".\n",
    "\n",
    "A happy number is a number defined by the following process: \n",
    "\n",
    "Starting with any positive integer, replace the number by the \n",
    "\n",
    "sum of the squares of its digits, and repeat the process until \n",
    "\n",
    "the number equals 1 (where it will stay), or it loops endlessly \n",
    "\n",
    "in a cycle which does not include 1. Those numbers for which \n",
    "\n",
    "this process ends in 1 are happy numbers.\n",
    "\n",
    "Example: \n",
    "\n",
    "Input: 19\n",
    "\n",
    "Output: true\n",
    "\n",
    "Explanation: \n",
    "\n",
    "$1^{2}$ + $9^{2}$ = 82\n",
    "\n",
    "$8^{2}$ + $2^{2}$ = 68\n",
    "\n",
    "$6^{2}$ + $8^{2}$ = 100\n",
    "\n",
    "$1^{2}$ + $0^{2}$ + $0^{2}$ = 1\n"
   ]
  },
  {
   "cell_type": "code",
   "execution_count": 8,
   "metadata": {},
   "outputs": [
    {
     "data": {
      "text/plain": [
       "True"
      ]
     },
     "execution_count": 8,
     "metadata": {},
     "output_type": "execute_result"
    }
   ],
   "source": [
    "class Solution:\n",
    "    def isHappy(self, n: int) -> bool:    \n",
    "        #seen = set()\n",
    "        seen = []\n",
    "        while n != 1 and not n in seen:\n",
    "            #seen.add(n)\n",
    "            seen.append(n)\n",
    "            n = sum(list(map(lambda y: y ** 2, [int(y) for y in str(n)])))\n",
    "        return not n in seen\n",
    "\n",
    "s = Solution()\n",
    "s.isHappy(19)"
   ]
  },
  {
   "cell_type": "markdown",
   "metadata": {},
   "source": [
    "## Day 7"
   ]
  },
  {
   "cell_type": "markdown",
   "metadata": {},
   "source": [
    "`283. Move Zeroes`\n",
    "\n",
    "https://leetcode.com/problems/move-zeroes/\n",
    "    \n",
    "Given an array nums, write a function to move all 0's to \n",
    "the end of it while maintaining the relative order of the non-zero elements.\n",
    "\n",
    "Example:\n",
    "\n",
    "Input: [0,1,0,3,12]\n",
    "\n",
    "Output: [1,3,12,0,0]\n",
    "\n",
    "Note:\n",
    "\n",
    "You must do this in-place without making a copy of the array.\n",
    "Minimize the total number of operations."
   ]
  },
  {
   "cell_type": "code",
   "execution_count": 9,
   "metadata": {},
   "outputs": [
    {
     "data": {
      "text/plain": [
       "[1, 3, 12, 0, 0, 0, 0]"
      ]
     },
     "execution_count": 9,
     "metadata": {},
     "output_type": "execute_result"
    }
   ],
   "source": [
    "from typing import List\n",
    "class Solution:\n",
    "    def moveZeroes(self, nums: List[int]) -> None:      \n",
    "        length = len(nums)\n",
    "        nums = list(filter(lambda num: num != 0, nums))\n",
    "        \n",
    "        for num in range(length - len(nums)):\n",
    "            nums.append(0)\n",
    "            \n",
    "        return nums\n",
    "\n",
    "s = Solution()\n",
    "s.moveZeroes([0,0,1,0,3,0,12])"
   ]
  },
  {
   "cell_type": "markdown",
   "metadata": {},
   "source": [
    "## Day 8"
   ]
  },
  {
   "cell_type": "markdown",
   "metadata": {},
   "source": [
    "`1351. Count Negative Numbers in a Sorted Matrix`\n",
    "\n",
    "https://leetcode.com/problems/count-negative-numbers-in-a-sorted-matrix/\n",
    "    \n",
    "Given a m * n matrix grid which is sorted in non-increasing \n",
    "order both row-wise and column-wise. \n",
    "\n",
    "Return the number of negative numbers in grid.\n",
    "\n",
    "Example 1:\n",
    "\n",
    "Input: grid = [[4,3,2,-1],[3,2,1,-1],[1,1,-1,-2],[-1,-1,-2,-3]]\n",
    "    \n",
    "Output: 8"
   ]
  },
  {
   "cell_type": "code",
   "execution_count": 10,
   "metadata": {},
   "outputs": [
    {
     "data": {
      "text/plain": [
       "8"
      ]
     },
     "execution_count": 10,
     "metadata": {},
     "output_type": "execute_result"
    }
   ],
   "source": [
    "class Solution(object):\n",
    "    def countNegatives(self, grid):\n",
    "        \"\"\"\n",
    "        :type grid: List[List[int]]\n",
    "        :rtype: int\n",
    "        \"\"\"\n",
    "\n",
    "        isNeg = 0\n",
    "        for lst in grid:\n",
    "            for val in lst:\n",
    "                if val < 0:\n",
    "                    isNeg += 1\n",
    "        \n",
    "        return isNeg\n",
    "s = Solution()\n",
    "s.countNegatives([[4,3,2,-1],[3,2,1,-1],[1,1,-1,-2],[-1,-1,-2,-3]])"
   ]
  },
  {
   "cell_type": "markdown",
   "metadata": {},
   "source": [
    "## Day 9"
   ]
  },
  {
   "cell_type": "markdown",
   "metadata": {},
   "source": [
    "`916. Word Subsets`\n",
    "\n",
    "https://leetcode.com/problems/word-subsets/\n",
    "    \n",
    "We are given two arrays A and B of words.  \n",
    "Each word is a string of lowercase letters.\n",
    "\n",
    "Now, say that word b is a subset of word a if every \n",
    "letter in b occurs in a, including multiplicity.  \n",
    "For example, \"wrr\" is a subset of \"warrior\", but is \n",
    "not a subset of \"world\".\n",
    "\n",
    "Now say a word a from A is universal if for every b \n",
    "in B, b is a subset of a. \n",
    "\n",
    "Return a list of all universal words in A.  You can \n",
    "return the words in any order.\n",
    "\n",
    "Example:\n",
    "\n",
    "Input: A = [\"amazon\",\"apple\",\"facebook\",\"google\",\"leetcode\"], \n",
    "        B = [\"e\",\"o\"]\n",
    "        \n",
    "Output: [\"facebook\",\"google\",\"leetcode\"]\n",
    "\n",
    "Example 3:\n",
    "\n",
    "Input: A = [\"amazon\",\"apple\",\"facebook\",\"google\",\"leetcode\"], \n",
    "    B = [\"e\",\"oo\"]\n",
    "    \n",
    "Output: [\"facebook\",\"google\"]    \n",
    "\n",
    "Example:\n",
    "\n",
    "Input: A = [\"amazon\",\"apple\",\"facebook\",\"google\",\"leetcode\"], \n",
    "    B = [\"ec\",\"oc\",\"ceo\"]\n",
    "    \n",
    "Output: [\"facebook\",\"leetcode\"]"
   ]
  },
  {
   "cell_type": "code",
   "execution_count": 11,
   "metadata": {},
   "outputs": [
    {
     "data": {
      "text/plain": [
       "['facebook', 'google']"
      ]
     },
     "execution_count": 11,
     "metadata": {},
     "output_type": "execute_result"
    }
   ],
   "source": [
    "from collections import Counter\n",
    "\n",
    "class Solution(object):\n",
    "    def wordSubsets(self, A, B):\n",
    "        \"\"\"\n",
    "        :type A: List[str]\n",
    "        :type B: List[str]\n",
    "        :rtype: List[str]\n",
    "        \"\"\"\n",
    "        isIn = {}\n",
    "        for elem in A:\n",
    "            iList = []\n",
    "            for val in B:\n",
    "                cnt = Counter(val)\n",
    "                oDict = dict(cnt.items())\n",
    "                for m, n in oDict.items():\n",
    "                    v = m*n\n",
    "                    if v in elem:\n",
    "                        iList.append(\"yes\") \n",
    "                    else:\n",
    "                        iList.append(\"no\")\n",
    "            isIn[elem] = iList\n",
    "\n",
    "        return [k for k in isIn.keys() if \"no\" not in isIn[k]]\n",
    "\n",
    "s = Solution()\n",
    "s.wordSubsets([\"amazon\",\"apple\",\"facebook\",\"google\",\"leetcode\"], [\"e\",\"oo\"])"
   ]
  },
  {
   "cell_type": "markdown",
   "metadata": {},
   "source": [
    "## Day 10"
   ]
  },
  {
   "cell_type": "markdown",
   "metadata": {},
   "source": [
    "`217. Contains Duplicate`\n",
    "\n",
    "https://leetcode.com/problems/contains-duplicate/\n",
    "\n",
    "Given an array of integers, find if the array contains any duplicates.\n",
    "\n",
    "Your function should return true if any value appears at least twice \n",
    "in the array, and it should return false if every element is distinct.\n",
    "\n",
    "Example 1:\n",
    "\n",
    "Input: [1,2,3,1]\n",
    "\n",
    "Output: true\n",
    "\n",
    "Example 2:\n",
    "\n",
    "Input: [1,2,3,4]\n",
    "\n",
    "Output: false\n",
    "\n",
    "Example 3:\n",
    "\n",
    "Input: [1,1,1,3,3,4,3,2,4,2]\n",
    "\n",
    "Output: true"
   ]
  },
  {
   "cell_type": "code",
   "execution_count": 12,
   "metadata": {},
   "outputs": [
    {
     "data": {
      "text/plain": [
       "True"
      ]
     },
     "execution_count": 12,
     "metadata": {},
     "output_type": "execute_result"
    }
   ],
   "source": [
    "from collections import Counter\n",
    "from typing import List\n",
    "\n",
    "class Solution(object):\n",
    "    def containsDuplicate(self, nums: List[int]) -> bool: \n",
    "        cnt = Counter(nums)\n",
    "        cntDict = dict(cnt)\n",
    "        yes = [\"yes\" for x in list(cntDict.values()) if x > 1]\n",
    "\n",
    "        return \"yes\" in yes\n",
    "\n",
    "s = Solution()\n",
    "s.containsDuplicate([1,1,1,3,3,4,3,2,4,2])"
   ]
  },
  {
   "cell_type": "markdown",
   "metadata": {},
   "source": [
    "## Day 11"
   ]
  },
  {
   "cell_type": "markdown",
   "metadata": {},
   "source": [
    "`134. Gas Station`\n",
    "\n",
    "https://leetcode.com/problems/gas-station/\n",
    "    \n",
    "There are N gas stations along a circular route, \n",
    "where the amount of gas at station i is gas[i].\n",
    "\n",
    "You have a car with an unlimited gas tank and it \n",
    "costs cost[i] of gas to travel from station i to \n",
    "its next station (i+1). You begin the journey with \n",
    "an empty tank at one of the gas stations.\n",
    "\n",
    "Return the starting gas station's index if you can \n",
    "travel around the circuit once in the clockwise \n",
    "direction, otherwise return -1.\n",
    "\n",
    "Note:\n",
    "    \n",
    "If there exists a solution, it is guaranteed to be unique.\n",
    "Both input arrays are non-empty and have the same length.\n",
    "Each element in the input arrays is a non-negative integer.\n",
    "\n",
    "Example 1:\n",
    "    \n",
    "Input: gas  = [1,2,3,4,5], cost = [3,4,5,1,2]\n",
    "    \n",
    "Output: 3\n",
    "\n",
    "Explanation:\n",
    "    \n",
    "Start at station 3 (index 3) and fill up with 4 unit of gas. \n",
    "\n",
    "Your tank = 0 + 4 = 4\n",
    "\n",
    "Travel to station 4. Your tank = 4 - 1 + 5 = 8\n",
    "\n",
    "Travel to station 0. Your tank = 8 - 2 + 1 = 7\n",
    "\n",
    "Travel to station 1. Your tank = 7 - 3 + 2 = 6\n",
    "\n",
    "Travel to station 2. Your tank = 6 - 4 + 3 = 5\n",
    "\n",
    "Travel to station 3. The cost is 5. Your gas is just \n",
    "enough to travel back to station 3.\n",
    "\n",
    "Therefore, return 3 as the starting index."
   ]
  },
  {
   "cell_type": "code",
   "execution_count": 13,
   "metadata": {},
   "outputs": [
    {
     "data": {
      "text/plain": [
       "3"
      ]
     },
     "execution_count": 13,
     "metadata": {},
     "output_type": "execute_result"
    }
   ],
   "source": [
    "from typing import List\n",
    "class Solution(object):\n",
    "    def canCompleteCircuit(self, gas: List[int], cost: List[int]) -> int:\n",
    "        totalCost = 0\n",
    "        startIndex = [x for x in range(len(gas)) if gas[x] > cost[x]]\n",
    "        totalCost = totalCost +  gas[startIndex[0]]\n",
    "        startCost = gas[startIndex[0]]\n",
    "\n",
    "        costcntr = startIndex[0]\n",
    "        gascntr = startIndex[0]\n",
    "\n",
    "        for g in gas:\n",
    "            \n",
    "            gascntr += 1\n",
    "            if gascntr == len(gas):\n",
    "                gascntr = 0\n",
    "\n",
    "            totalCost = totalCost - cost[costcntr] + gas[gascntr]\n",
    "            costcntr += 1\n",
    "            \n",
    "            if costcntr == len(cost):\n",
    "                costcntr = 0\n",
    "                \n",
    "        return startIndex[0] if totalCost - startCost >= 0 else -1\n",
    "\n",
    "s = Solution()\n",
    "s.canCompleteCircuit([1,2,3,4,5], [3,4,5,1,2])"
   ]
  },
  {
   "cell_type": "markdown",
   "metadata": {},
   "source": [
    "## Day 12"
   ]
  },
  {
   "cell_type": "markdown",
   "metadata": {},
   "source": [
    "`648. Replace Words`\n",
    "\n",
    "https://leetcode.com/problems/replace-words/\n",
    "    \n",
    "In English, we have a concept called root, which \n",
    "can be followed by some other words to form another \n",
    "longer word - let's call this word successor. For \n",
    "example, the root an, followed by other, which can \n",
    "form another word another.\n",
    "\n",
    "Now, given a dictionary consisting of many roots \n",
    "and a sentence. You need to replace all the successor \n",
    "in the sentence with the root forming it. If a successor \n",
    "has many roots that can form it, replace it with the root with \n",
    "the shortest length.\n",
    "\n",
    "You need to output the sentence after the replacement.\n",
    "\n",
    "Example 1:\n",
    "\n",
    "Input: dictt = [\"cat\", \"bat\", \"rat\"]\n",
    "\n",
    "sentence = \"the cattle was rattled by the battery\"\n",
    "\n",
    "Output: \"the cat was rat by the bat\""
   ]
  },
  {
   "cell_type": "code",
   "execution_count": 14,
   "metadata": {},
   "outputs": [
    {
     "data": {
      "text/plain": [
       "'the an was rat by the bat'"
      ]
     },
     "execution_count": 14,
     "metadata": {},
     "output_type": "execute_result"
    }
   ],
   "source": [
    "import re\n",
    "from typing import List\n",
    "\n",
    "class Solution:\n",
    "    def replaceWords(self, dictt: List[str], sentence: str) -> str:\n",
    "\n",
    "        sentence = sentence.split()\n",
    "        pattern = r\"|\".join(x for x in dictt)\n",
    "\n",
    "        oSentence = []\n",
    "        for word in sentence:\n",
    "            found = re.findall(pattern, word)\n",
    "            if len(found) >= 1: \n",
    "                foundLen = [len(x) for x in found]\n",
    "                found = dict(zip(foundLen, found))\n",
    "                minVal = min(found.keys())\n",
    "                root = found[minVal]\n",
    "                word = root\n",
    "            oSentence.append(word)\n",
    "\n",
    "        oSentence = \" \".join(x for x in oSentence)\n",
    "        \n",
    "        return oSentence\n",
    "    \n",
    "s = Solution()\n",
    "s.replaceWords([\"cat\", \"bat\", \"rat\", \"an\"], \n",
    "               \"the catantle was rattled by the battery\")"
   ]
  },
  {
   "cell_type": "markdown",
   "metadata": {},
   "source": [
    "## Day 13"
   ]
  },
  {
   "cell_type": "markdown",
   "metadata": {},
   "source": [
    "`1357. Apply Discount Every n Orders`\n",
    "\n",
    "https://leetcode.com/problems/apply-discount-every-n-orders/\n",
    "    \n",
    "There is a sale in a supermarket, there will be a discount for every n customer.\n",
    "\n",
    "There are some products in the supermarket where the id of the i-th product \n",
    "is `products[i]` and the price per unit of this product is `prices[i]`.\n",
    "The system will count the number of customers and when the n-th customer arrives he/she will have a discount on the bill. (i.e if the cost is x the new cost is `x - (discount * x) / 100)`. Then the system will start counting customers again.\n",
    "The customer orders a certain amount of each product where `product[i]` is the id of the i-th product the customer ordered and `amount[i]` is the number of units the customer ordered of that product.\n",
    "\n",
    "Implement the Cashier class:\n",
    "\n",
    "`Cashier(int n, int discount, int[] products, int[] prices)` Initializes the object with n, the discount, the products and their prices.\n",
    "\n",
    "doubling the `getBill(int[] product, int[] amount)` returns the value of the bill and applies the discount if needed. Answers within 10^-5 of the actual value will be accepted as correct.\n",
    "\n",
    "Input\n",
    "`[\"Cashier\",\"getBill\",\"getBill\",\"getBill\",\"getBill\",\"getBill\",\"getBill\"\n",
    ",\"getBill\"]`\n",
    "\n",
    "`[[3,50,[1,2,3,4,5,6,7],[100,200,300,400,300,200,100]],[[1,2],[1,2]],[[3,7],[10,10]],[[1,2,3,4,5,6,7],[1,1,1,1,1,1,1]],[[4],[10]],[[7,3],[10,10]],[[7,5,3,1,6,4,2],[10,10,10,9,9,9,7]],[[2,3,5],[5,3,2]]]`\n",
    "\n",
    "Output\n",
    "`[500.0,4000.0,800.0,4000.0,4000.0,7350.0,2500.0]`"
   ]
  },
  {
   "cell_type": "code",
   "execution_count": 15,
   "metadata": {},
   "outputs": [
    {
     "data": {
      "text/plain": [
       "[500.0, 4000.0, 800.0, 4000.0, 4000.0, 7350.0, 2500.0]"
      ]
     },
     "execution_count": 15,
     "metadata": {},
     "output_type": "execute_result"
    }
   ],
   "source": [
    "from typing import List\n",
    "class Cashier:\n",
    "    def __init__(self, n: int, discount: int, products: List[int], \n",
    "                 prices: List[int]):\n",
    "        self.n = n\n",
    "        self.discount = discount\n",
    "        self.products = products\n",
    "        self.prices = prices\n",
    "        self.prodPrice = dict(zip(self.products, self.prices))\n",
    "        self.cntr = 0\n",
    "        self.output = []\n",
    "\n",
    "    def getBill(self, product: List[int], amount: List[int]) -> float: \n",
    "        self.cntr +=1  \n",
    "        price = [self.prodPrice[x] for x in product]\n",
    "        prodDict = dict(zip(product, price))\n",
    "        amntDict  = dict(zip(product, amount))\n",
    "        total = sum([(prodDict[k]*amntDict[k]) for k in amntDict.keys()])\n",
    "        \n",
    "        if self.cntr % self.n == 0:\n",
    "            total = total * (self.discount/100)\n",
    "        \n",
    "        self.output.append(float(total))\n",
    "        return self.output\n",
    "\n",
    "obj = Cashier(3,50,[1,2,3,4,5,6,7],[100,200,300,400,300,200,100])\n",
    "obj.getBill([1,2],[1,2])\n",
    "obj.getBill([3,7],[10,10])\n",
    "obj.getBill([1,2,3,4,5,6,7],[1,1,1,1,1,1,1])\n",
    "obj.getBill([4],[10])\n",
    "obj.getBill([7,3],[10,10])\n",
    "obj.getBill([7,5,3,1,6,4,2],[10,10,10,9,9,9,7])\n",
    "obj.getBill([2,3,5],[5,3,2])"
   ]
  },
  {
   "cell_type": "markdown",
   "metadata": {},
   "source": [
    "## Day 14"
   ]
  },
  {
   "cell_type": "markdown",
   "metadata": {},
   "source": [
    "`229. Majority Element II`\n",
    "\n",
    "https://leetcode.com/problems/majority-element-ii/\n",
    "    \n",
    "Given an integer array of size n, find all elements \n",
    "that appear more than ⌊ n/3 ⌋ times.\n",
    "\n",
    "Note: The algorithm should run in linear time \n",
    "and in O(1) space.\n",
    "\n",
    "Example 1:\n",
    "\n",
    "Input: [3,2,3]\n",
    "\n",
    "Output: [3]\n",
    "\n",
    "Example 2:\n",
    "\n",
    "Input: [1,1,1,3,3,2,2,2]\n",
    "\n",
    "Output: [1,2]"
   ]
  },
  {
   "cell_type": "code",
   "execution_count": 16,
   "metadata": {},
   "outputs": [
    {
     "data": {
      "text/plain": [
       "[1, 2]"
      ]
     },
     "execution_count": 16,
     "metadata": {},
     "output_type": "execute_result"
    }
   ],
   "source": [
    "from collections import Counter\n",
    "from typing import List\n",
    "\n",
    "class Solution:\n",
    "    def majorityElement(self, nums: List[int]) -> List[int]:\n",
    "        return [k for k, v in dict(Counter(nums)).items() if v>(len(nums)/3)]\n",
    "    \n",
    "s = Solution()\n",
    "s.majorityElement([1,1,1,3,3,2,2,2])"
   ]
  },
  {
   "cell_type": "markdown",
   "metadata": {},
   "source": [
    "## Day 15"
   ]
  },
  {
   "cell_type": "markdown",
   "metadata": {},
   "source": [
    "`826. Most Profit Assigning Work`\n",
    "\n",
    "https://leetcode.com/problems/most-profit-assigning-work/\n",
    "    \n",
    "We have jobs: difficulty[i] is the difficulty of the ith job, \n",
    "    and profit[i] is the profit of the ith job. \n",
    "\n",
    "Now we have some workers. worker[i] is the ability of the ith \n",
    "worker, which means that this worker can only complete a job \n",
    "with difficulty at most worker[i]. \n",
    "\n",
    "Every worker can be assigned at most one job, but one job can \n",
    "be completed multiple times.\n",
    "\n",
    "For example, if 3 people attempt the same job that pays `$1`, then \n",
    "the total profit will be `$3`.  If a worker cannot complete any job, \n",
    "his profit is `$0`.\n",
    "\n",
    "What is the most profit we can make?\n",
    "\n",
    "Example 1:\n",
    "    \n",
    "Input: difficulty = [2,4,6,8,10], profit = [10,20,30,40,50], \n",
    "    worker = [4,5,6,7]\n",
    "    \n",
    "Output: 100 \n",
    "    \n",
    "Explanation: Workers are assigned jobs of difficulty [4,4,6,6] \n",
    "    and they get profit of [20,20,30,30] seperately.\n",
    "\n",
    "Notes:\n",
    "    \n",
    "1 <= difficulty.length = profit.length <= 10000\n",
    "\n",
    "1 <= worker.length <= 10000\n",
    "\n",
    "difficulty[i], profit[i], worker[i]  are in range [1, 10^5]"
   ]
  },
  {
   "cell_type": "code",
   "execution_count": 17,
   "metadata": {},
   "outputs": [
    {
     "data": {
      "text/plain": [
       "100"
      ]
     },
     "execution_count": 17,
     "metadata": {},
     "output_type": "execute_result"
    }
   ],
   "source": [
    "import numpy as np\n",
    "from typing import List\n",
    "\n",
    "class Solution:\n",
    "    def closest(self, lst, K):\n",
    "        lst = np.asarray(lst) \n",
    "        idx = (np.abs(lst - K)).argmin()\n",
    "        return lst[idx] \n",
    "    \n",
    "    def maxProfitAssignment(self, difficulty: List[int], profit: List[int], \n",
    "                            worker: List[int]) -> int:\n",
    "\n",
    "        diffProfit = dict(zip(difficulty, profit))\n",
    "        maxProfit = []\n",
    "        for w in worker:\n",
    "            closestVal = self.closest(difficulty, w)\n",
    "            maxProfit.append(diffProfit[closestVal])\n",
    "        return sum(maxProfit)\n",
    "    \n",
    "s = Solution()\n",
    "s.maxProfitAssignment([2,4,6,8,10], [10,20,30,40,50], [4,5,6,7])"
   ]
  },
  {
   "cell_type": "markdown",
   "metadata": {},
   "source": [
    "## Day 16"
   ]
  },
  {
   "cell_type": "markdown",
   "metadata": {},
   "source": [
    "`394. Decode String`\n",
    "\n",
    "https://leetcode.com/problems/decode-string/\n",
    "    \n",
    "Given an encoded string, return its decoded string.\n",
    "\n",
    "The encoding rule is: k[encoded_string], where the \n",
    "encoded_string inside the square brackets is being \n",
    "repeated exactly k times. Note that k is guaranteed \n",
    "to be a positive integer.\n",
    "\n",
    "You may assume that the input string is always valid; \n",
    "No extra white spaces, square brackets are well-formed.\n",
    "\n",
    "Furthermore, you may assume that the original data does \n",
    "not contain any digits and that digits are only for those \n",
    "repeat numbers, k. For example, there won't be input like \n",
    "3a or 2[4].\n",
    "\n",
    "Examples:\n",
    "\n",
    "s = \"3[a]2[bc]\", return \"aaabcbc\".\n",
    "\n",
    "s = \"3[a2[c]]\", return \"accaccacc\".\n",
    "\n",
    "s = \"2[abc]3[cd]ef\", return \"abcabccdcdcdef\"."
   ]
  },
  {
   "cell_type": "code",
   "execution_count": 18,
   "metadata": {},
   "outputs": [
    {
     "data": {
      "text/plain": [
       "'abcabccdcdcdef'"
      ]
     },
     "execution_count": 18,
     "metadata": {},
     "output_type": "execute_result"
    }
   ],
   "source": [
    "from collections import deque \n",
    "class Solution: \n",
    "    def getIndex(self, s, i): \n",
    "        if s[i] != '[': \n",
    "            return -1\n",
    "        d = deque() \n",
    "        for k in range(i, len(s)): \n",
    "            if s[k] == ']': \n",
    "                d.popleft()  \n",
    "            elif s[k] == '[': \n",
    "                d.append(s[i]) \n",
    "            if not d: \n",
    "                return k \n",
    "        return -1\n",
    "    \n",
    "    def decodeString(self, inp: str) -> str:\n",
    "        fIndx, lIndx, seen, vals, seenVals = [], [], [], [], {}\n",
    "        for indx, val in enumerate(inp):\n",
    "            if val == \"[\":\n",
    "                fIndx.append(indx)\n",
    "        fIndx = fIndx[::-1]\n",
    "        for x in fIndx:\n",
    "            lIndx.append(self.getIndex(inp, x))\n",
    "        indx = dict(zip(fIndx, lIndx))\n",
    "        cntr=0\n",
    "        for k, v in indx.items():\n",
    "            if len(seen)>=1:\n",
    "                n = int(inp[k-1])\n",
    "                lst = inp[k:v+1]\n",
    "                seen.append(str(n)+lst)\n",
    "                lstT = lst.replace(seen[cntr], vals[cntr])\n",
    "                lstT = lstT[1:-1]\n",
    "                seenVals[str(n)+lst] = lstT*n\n",
    "                vals.append(lstT*n)\n",
    "                cntr+=1   \n",
    "            else:\n",
    "                n = int(inp[k-1])\n",
    "                lst = inp[k:v+1]\n",
    "                seenVals[str(n)+lst] = lst[1:-1]*n\n",
    "                vals.append(lst[1:-1]*n)\n",
    "                seen.append(str(n)+lst)\n",
    "        for k in reversed(list(seenVals.keys())):\n",
    "            inp = inp.replace(str(k), seenVals[k])\n",
    "            \n",
    "        return inp\n",
    "\n",
    "s = Solution()\n",
    "s.decodeString(\"2[abc]3[cd]ef\")"
   ]
  },
  {
   "cell_type": "markdown",
   "metadata": {},
   "source": [
    "## Day 17"
   ]
  },
  {
   "cell_type": "markdown",
   "metadata": {},
   "source": [
    "`74. Search a 2D Matrix`\n",
    "\n",
    "https://leetcode.com/problems/search-a-2d-matrix/\n",
    "    \n",
    "Write an efficient algorithm that searches for \n",
    "a value in an m x n matrix. This matrix has the \n",
    "following properties:\n",
    "\n",
    "Integers in each row are sorted from left to right.\n",
    "The first integer of each row is greater than the \n",
    "last integer of the previous row.\n",
    "\n",
    "Example 1:\n",
    "\n",
    "Input:\n",
    "matrix = [\n",
    "  [1,   3,  5,  7],\n",
    "  [10, 11, 16, 20],\n",
    "  [23, 30, 34, 50]\n",
    "]\n",
    "\n",
    "target = 3\n",
    "\n",
    "Output: True"
   ]
  },
  {
   "cell_type": "code",
   "execution_count": 19,
   "metadata": {},
   "outputs": [
    {
     "data": {
      "text/plain": [
       "True"
      ]
     },
     "execution_count": 19,
     "metadata": {},
     "output_type": "execute_result"
    }
   ],
   "source": [
    "from typing import List\n",
    "class Solution:\n",
    "    def searchMatrix(self, matrix: List[List[int]], target: int) -> bool:\n",
    "        return True if target in [m for n in matrix for m in n] else False\n",
    "    \n",
    "s = Solution()\n",
    "s.searchMatrix([\n",
    "  [1,   3,  5,  7],\n",
    "  [10, 11, 16, 20],\n",
    "  [23, 30, 34, 50]\n",
    "], 34)"
   ]
  },
  {
   "cell_type": "markdown",
   "metadata": {},
   "source": [
    "## Day 18"
   ]
  },
  {
   "cell_type": "markdown",
   "metadata": {},
   "source": [
    "`677. Map Sum Pairs`\n",
    "\n",
    "https://leetcode.com/problems/map-sum-pairs/\n",
    "    \n",
    "Implement a MapSum class with insert, and sum methods.\n",
    "\n",
    "For the method insert, you'll be given a pair of \n",
    "(string, integer). The string represents the key and \n",
    "the integer represents the value. If the key already \n",
    "existed, then the original key-value pair will be \n",
    "overridden to the new one.\n",
    "\n",
    "For the method sum, you'll be given a string representing \n",
    "the prefix, and you need to return the sum of all the \n",
    "pairs' value whose key starts with the prefix.\n",
    "\n",
    "Example 1:\n",
    "    \n",
    "Input: insert(\"apple\", 3), Output: Null\n",
    "        \n",
    "Input: sum(\"ap\"), Output: 3\n",
    "        \n",
    "Input: insert(\"app\", 2), Output: Null\n",
    "        \n",
    "Input: sum(\"ap\"), Output: 5"
   ]
  },
  {
   "cell_type": "code",
   "execution_count": 20,
   "metadata": {},
   "outputs": [
    {
     "data": {
      "text/plain": [
       "6"
      ]
     },
     "execution_count": 20,
     "metadata": {},
     "output_type": "execute_result"
    }
   ],
   "source": [
    "class MapSum:\n",
    "\n",
    "    def __init__(self):\n",
    "        self.oDict = {} \n",
    "\n",
    "    def insert(self, key: str, val: int) -> None:\n",
    "        self.oDict[key] = val\n",
    "\n",
    "    def sum(self, prefix: str) -> int:\n",
    "        sumVal = 0\n",
    "        for k, v in self.oDict.items():\n",
    "            if k.startswith(prefix):\n",
    "                sumVal += v\n",
    "        \n",
    "        return sumVal\n",
    "\n",
    "obj = MapSum()\n",
    "obj.insert(\"apple\", 3)\n",
    "obj.sum(\"ap\")\n",
    "obj.insert(\"app\", 2)\n",
    "obj.sum(\"ap\")\n",
    "obj.insert(\"apple\", 4)\n",
    "obj.sum(\"ap\")"
   ]
  },
  {
   "cell_type": "markdown",
   "metadata": {},
   "source": [
    "## Day 19"
   ]
  },
  {
   "cell_type": "markdown",
   "metadata": {},
   "source": [
    "`551. Student Attendance Record I`\n",
    "\n",
    "https://leetcode.com/problems/student-attendance-record-i/\n",
    "    \n",
    "You are given a string representing an attendance record for \n",
    "a student. The record only contains the following three characters:\n",
    "    \n",
    "'A' : Absent.\n",
    "    \n",
    "'L' : Late.\n",
    "    \n",
    "'P' : Present.\n",
    "    \n",
    "A student could be rewarded if his attendance record doesn't \n",
    "contain more than one 'A' (absent) or more than two continuous 'L' \n",
    "(late).\n",
    "\n",
    "You need to return whether the student could be rewarded according \n",
    "to his attendance record.\n",
    "\n",
    "Example 1:\n",
    "    \n",
    "Input: \"PPALLP\"\n",
    "    \n",
    "Output: True"
   ]
  },
  {
   "cell_type": "code",
   "execution_count": 21,
   "metadata": {},
   "outputs": [
    {
     "data": {
      "text/plain": [
       "False"
      ]
     },
     "execution_count": 21,
     "metadata": {},
     "output_type": "execute_result"
    }
   ],
   "source": [
    "from collections import Counter\n",
    "\n",
    "class Solution:\n",
    "    def checkRecord(self, s: str)-> bool:\n",
    "        cnt = Counter(s)\n",
    "        return True if dict(cnt)[\"L\"] <= 2 and dict(cnt)[\"A\"] <= 1 else False\n",
    "        \n",
    "sol = Solution()\n",
    "sol.checkRecord(\"PPALLLP\")"
   ]
  },
  {
   "cell_type": "markdown",
   "metadata": {},
   "source": [
    "## Day 20"
   ]
  },
  {
   "cell_type": "markdown",
   "metadata": {},
   "source": [
    "`355. Design Twitter`\n",
    "\n",
    "https://leetcode.com/problems/design-twitter/\n",
    "    \n",
    "Design a simplified version of Twitter where users can post tweets, \n",
    "follow/unfollow another user and is able to see the 10 most recent \n",
    "tweets in the user's news feed. Your design should support the \n",
    "following methods:\n",
    "\n",
    "postTweet(userId, tweetId): Compose a new tweet.\n",
    "\n",
    "getNewsFeed(userId): Retrieve the 10 most recent tweet ids in the \n",
    "user's news feed. Each item in the news feed must be posted by \n",
    "users who the user followed or by the user herself. Tweets must \n",
    "be ordered from most recent to least recent.\n",
    "\n",
    "follow(followerId, followeeId): Follower follows a followee.\n",
    "\n",
    "unfollow(followerId, followeeId): Follower unfollows a followee.\n",
    "\n",
    "Example:\n",
    "\n",
    "User 1 posts a new tweet (id = 5).\n",
    "\n",
    "twitter.postTweet(1, 5);\n",
    "\n",
    "User 1's news feed should return a list with 1 tweet id -> [5].\n",
    "\n",
    "twitter.getNewsFeed(1);\n",
    "\n",
    "User 1 follows user 2.\n",
    "\n",
    "twitter.follow(1, 2);\n",
    "\n",
    "User 2 posts a new tweet (id = 6).\n",
    "\n",
    "twitter.postTweet(2, 6);\n",
    "\n",
    "User 1's news feed should return a list with 2 tweet ids -> [6, 5].\n",
    "\n",
    "Tweet id 6 should precede tweet id 5 because it is posted after tweet id 5.\n",
    "\n",
    "twitter.getNewsFeed(1);\n",
    "\n",
    "User 1 unfollows user 2.\n",
    "\n",
    "twitter.unfollow(1, 2);\n",
    "\n",
    "User 1's news feed should return a list with 1 tweet id -> [5],\n",
    "\n",
    "since user 1 is no longer following user 2.\n",
    "\n",
    "twitter.getNewsFeed(1);"
   ]
  },
  {
   "cell_type": "code",
   "execution_count": 22,
   "metadata": {},
   "outputs": [
    {
     "data": {
      "text/plain": [
       "'The available tweet id is: 5'"
      ]
     },
     "execution_count": 22,
     "metadata": {},
     "output_type": "execute_result"
    }
   ],
   "source": [
    "from typing import List\n",
    "class Twitter:\n",
    "    def __init__(self):\n",
    "        self.relationship = {}\n",
    "        self.userFeed = {}\n",
    "\n",
    "    def postTweet(self, userId: int, tweetId: int) -> None:\n",
    "        vals = []\n",
    "        try:\n",
    "            vals = self.userFeed[userId]\n",
    "        except:\n",
    "            self.userFeed[userId] = [tweetId]\n",
    "            \n",
    "        if len(vals) > 0:\n",
    "            if not tweetId in vals:\n",
    "                self.userFeed[userId].append(tweetId)\n",
    "             \n",
    "    def getNewsFeed(self, userId: int) -> List[int]:\n",
    "        self.feed = []\n",
    "        for t in self.userFeed[userId]:\n",
    "            self.feed.append(t)\n",
    "        \n",
    "        try:\n",
    "            for r in self.relationship[userId]:\n",
    "                for tweet in self.userFeed[r]:\n",
    "                    self.feed.append(tweet)\n",
    "        except:\n",
    "            pass\n",
    "        \n",
    "        self.feed = self.feed[::-1]\n",
    "        if len(self.feed[:10]) == 1:\n",
    "            tw, vb = \"tweet id\", \"is\"\n",
    "        else:\n",
    "            tw, vb = \"tweet ids\", \"are\"\n",
    "        return \"The available \"+tw+\" \" + vb+\": {}\".format(\n",
    "            \", \".join(str(x) for x in self.feed[:10]))\n",
    "\n",
    "    def follow(self, followerId: int, followeeId: int) -> None:\n",
    "        if not followerId in self.relationship.keys(): \n",
    "            self.relationship[followerId] = [followeeId]\n",
    "        else:\n",
    "            if not followeeId in self.relationship[followerId]:\n",
    "                self.relationship[followerId].append(followeeId)\n",
    "\n",
    "    def unfollow(self, followerId: int, followeeId: int) -> None:\n",
    "        if followeeId in self.relationship[followerId]:\n",
    "            self.relationship[followerId].remove(followeeId)\n",
    "        \n",
    "        \n",
    "twitter = Twitter(); twitter.postTweet(1, 5)\n",
    "twitter.getNewsFeed(1); twitter.follow(1, 2); twitter.postTweet(2, 6)\n",
    "twitter.getNewsFeed(1); twitter.unfollow(1, 2); twitter.getNewsFeed(1)"
   ]
  },
  {
   "cell_type": "markdown",
   "metadata": {},
   "source": [
    "## Bonus day, Day 21\n",
    "- because I found the problem quite fascinating"
   ]
  },
  {
   "cell_type": "markdown",
   "metadata": {},
   "source": [
    "`1396. Design Underground System`\n",
    "\n",
    "https://leetcode.com/problems/design-underground-system/\n",
    "\n",
    "Implement the class UndergroundSystem that supports three methods:\n",
    "\n",
    "1. checkIn(int id, string stationName, int t)\n",
    "\n",
    "A customer with id card equal to id, gets in the station stationName at time t.\n",
    "A customer can only be checked into one place at a time.\n",
    "\n",
    "2. checkOut(int id, string stationName, int t)\n",
    "\n",
    "A customer with id card equal to id, gets out from the station stationName at time t.\n",
    "\n",
    "3. getAverageTime(string startStation, string endStation) \n",
    "\n",
    "Returns the average time to travel between the startStation and the endStation.\n",
    "The average time is computed from all the previous traveling from startStation to \n",
    "endStation that happened directly.\n",
    "\n",
    "Call to getAverageTime is always valid.\n",
    "\n",
    "You can assume all calls to checkIn and checkOut methods are consistent. That is, \n",
    "if a customer gets in at time t1 at some station, then he/she gets out at time t2 \n",
    "with t2 > t1. All events happen in chronological order.\n",
    "\n",
    "Constraints:\n",
    "\n",
    "There will be at most 20000 operations.\n",
    "\n",
    "1 <= id, t <= 10^6\n",
    "\n",
    "All strings consist of uppercase, lowercase English letters and digits.\n",
    "\n",
    "1 <= stationName.length <= 10\n",
    "\n",
    "Answers within 10^-5 of the actual value will be accepted as correct."
   ]
  },
  {
   "cell_type": "code",
   "execution_count": 23,
   "metadata": {},
   "outputs": [
    {
     "name": "stdout",
     "output_type": "stream",
     "text": [
      "Paradise to Cambridge took 14.0 on average\n",
      "Leyton to Waterloo took 11.0 on average\n",
      "Leyton to Waterloo took 11.0 on average\n",
      "Leyton to Waterloo took 12.0 on average\n"
     ]
    },
    {
     "data": {
      "text/plain": [
       "[14.0, 11.0, 11.0, 12.0]"
      ]
     },
     "execution_count": 23,
     "metadata": {},
     "output_type": "execute_result"
    }
   ],
   "source": [
    "import numpy as np\n",
    "\n",
    "class UndergroundSystem:\n",
    "\n",
    "    def __init__(self):\n",
    "        self.checkin_dict, self.checkout_dict  = {}, {}\n",
    "        self.locCheckin_dict, self.locCheckout_dict  = {}, {}\n",
    "        self.output = []\n",
    "\n",
    "    def checkIn(self, id: int, stationName: str, t: int) -> None:\n",
    "        if not stationName in self.locCheckin_dict.keys():\n",
    "            self.locCheckin_dict[stationName] = [id]\n",
    "        else:\n",
    "            self.locCheckin_dict[stationName].append(id)\n",
    "        self.checkin_dict[id] = [stationName, t]\n",
    "\n",
    "    def checkOut(self, id: int, stationName: str, t: int) -> None:\n",
    "        if not stationName in self.locCheckout_dict.keys():\n",
    "            self.locCheckout_dict[stationName] = [id]\n",
    "        else:\n",
    "            self.locCheckout_dict[stationName].append(id)\n",
    "        self.checkout_dict[id] = [stationName, t]\n",
    "\n",
    "    def getAverageTime(self, startStation: str, endStation: str) -> float:\n",
    "        toAvg = []\n",
    "        start = sorted(self.locCheckin_dict[startStation])\n",
    "        end = sorted(self.locCheckout_dict[endStation])\n",
    "        start = [x for x in start if x in end]\n",
    "        for sID in range(len(start)):\n",
    "            toAvg.append(self.checkout_dict[end[sID]][1] - self.checkin_dict[end[sID]][1])\n",
    "        \n",
    "        self.output.append(np.mean(toAvg))\n",
    "        print(\"{} to {} took {} on average\".format(startStation, endStation, np.mean(toAvg)))\n",
    "        return self.output\n",
    "\n",
    "obj = UndergroundSystem()\n",
    "obj.checkIn(45, \"Leyton\", 3)\n",
    "obj.checkIn(32, \"Paradise\", 8)\n",
    "obj.checkIn(27, \"Leyton\", 10)\n",
    "obj.checkOut(45, \"Waterloo\", 15)\n",
    "obj.checkOut(27, \"Waterloo\", 20)\n",
    "obj.checkOut(32, \"Cambridge\", 22)\n",
    "obj.getAverageTime(\"Paradise\", \"Cambridge\")\n",
    "obj.getAverageTime(\"Leyton\", \"Waterloo\")\n",
    "obj.checkIn(10, \"Leyton\", 24)\n",
    "obj.getAverageTime(\"Leyton\", \"Waterloo\")\n",
    "obj.checkOut(10, \"Waterloo\", 38)\n",
    "obj.getAverageTime(\"Leyton\", \"Waterloo\")"
   ]
  }
 ],
 "metadata": {
  "kernelspec": {
   "display_name": "Python 3",
   "language": "python",
   "name": "python3"
  },
  "language_info": {
   "codemirror_mode": {
    "name": "ipython",
    "version": 3
   },
   "file_extension": ".py",
   "mimetype": "text/x-python",
   "name": "python",
   "nbconvert_exporter": "python",
   "pygments_lexer": "ipython3",
   "version": "3.7.3"
  }
 },
 "nbformat": 4,
 "nbformat_minor": 2
}
